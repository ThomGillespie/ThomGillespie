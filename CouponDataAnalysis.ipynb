{
 "cells": [
  {
   "cell_type": "markdown",
   "metadata": {},
   "source": [
    "### Will a Customer Accept the Coupon?\n",
    "\n",
    "**Context**\n",
    "\n",
    "Imagine driving through town and a coupon is delivered to your cell phone for a restaraunt near where you are driving. Would you accept that coupon and take a short detour to the restaraunt? Would you accept the coupon but use it on a sunbsequent trip? Would you ignore the coupon entirely? What if the coupon was for a bar instead of a restaraunt? What about a coffee house? Would you accept a bar coupon with a minor passenger in the car? What about if it was just you and your partner in the car? Would weather impact the rate of acceptance? What about the time of day?\n",
    "\n",
    "Obviously, proximity to the business is a factor on whether the coupon is delivered to the driver or not, but what are the factors that determine whether a driver accepts the coupon once it is delivered to them? How would you determine whether a driver is likely to accept a coupon?\n",
    "\n",
    "**Overview**\n",
    "\n",
    "The goal of this project is to use what you know about visualizations and probability distributions to distinguish between customers who accepted a driving coupon versus those that did not.\n",
    "\n",
    "**Data**\n",
    "\n",
    "This data comes to us from the UCI Machine Learning repository and was collected via a survey on Amazon Mechanical Turk. The survey describes different driving scenarios including the destination, current time, weather, passenger, etc., and then ask the person whether he will accept the coupon if he is the driver. Answers that the user will drive there ‘right away’ or ‘later before the coupon expires’ are labeled as ‘Y = 1’ and answers ‘no, I do not want the coupon’ are labeled as ‘Y = 0’.  There are five different types of coupons -- less expensive restaurants (under \\\\$20), coffee houses, carry out & take away, bar, and more expensive restaurants (\\\\$20 - \\\\$50). "
   ]
  },
  {
   "cell_type": "markdown",
   "metadata": {},
   "source": [
    "**Deliverables**\n",
    "\n",
    "Your final product should be a brief report that highlights the differences between customers who did and did not accept the coupons.  To explore the data you will utilize your knowledge of plotting, statistical summaries, and visualization using Python. You will publish your findings in a public facing github repository as your first portfolio piece. \n",
    "\n",
    "\n",
    "\n"
   ]
  },
  {
   "cell_type": "markdown",
   "metadata": {},
   "source": [
    "### Data Description\n",
    "Keep in mind that these values mentioned below are average values.\n",
    "\n",
    "The attributes of this data set include:\n",
    "1. User attributes\n",
    "    -  Gender: male, female\n",
    "    -  Age: below 21, 21 to 25, 26 to 30, etc.\n",
    "    -  Marital Status: single, married partner, unmarried partner, or widowed\n",
    "    -  Number of children: 0, 1, or more than 1\n",
    "    -  Education: high school, bachelors degree, associates degree, or graduate degree\n",
    "    -  Occupation: architecture & engineering, business & financial, etc.\n",
    "    -  Annual income: less than \\\\$12500, \\\\$12500 - \\\\$24999, \\\\$25000 - \\\\$37499, etc.\n",
    "    -  Number of times that he/she goes to a bar: 0, less than 1, 1 to 3, 4 to 8 or greater than 8\n",
    "    -  Number of times that he/she buys takeaway food: 0, less than 1, 1 to 3, 4 to 8 or greater\n",
    "    than 8\n",
    "    -  Number of times that he/she goes to a coffee house: 0, less than 1, 1 to 3, 4 to 8 or\n",
    "    greater than 8\n",
    "    -  Number of times that he/she eats at a restaurant with average expense less than \\\\$20 per\n",
    "    person: 0, less than 1, 1 to 3, 4 to 8 or greater than 8\n",
    "    -  Number of times that he/she goes to a bar: 0, less than 1, 1 to 3, 4 to 8 or greater than 8\n",
    "    \n",
    "\n",
    "2. Contextual attributes\n",
    "    - Driving destination: home, work, or no urgent destination\n",
    "    - Location of user, coupon and destination: we provide a map to show the geographical\n",
    "    location of the user, destination, and the venue, and we mark the distance between each\n",
    "    two places with time of driving. The user can see whether the venue is in the same\n",
    "    direction as the destination.\n",
    "    - Weather: sunny, rainy, or snowy\n",
    "    - Temperature: 30F, 55F, or 80F\n",
    "    - Time: 10AM, 2PM, or 6PM\n",
    "    - Passenger: alone, partner, kid(s), or friend(s)\n",
    "\n",
    "\n",
    "3. Coupon attributes\n",
    "    - time before it expires: 2 hours or one day"
   ]
  },
  {
   "cell_type": "code",
   "execution_count": 1,
   "metadata": {
    "tags": []
   },
   "outputs": [],
   "source": [
    "import matplotlib.pyplot as plt\n",
    "import seaborn as sns\n",
    "import pandas as pd\n",
    "import numpy as np"
   ]
  },
  {
   "cell_type": "markdown",
   "metadata": {},
   "source": [
    "### Problems\n",
    "\n",
    "Use the prompts below to get started with your data analysis.  \n",
    "\n",
    "1. Read in the `coupons.csv` file.\n",
    "\n",
    "\n"
   ]
  },
  {
   "cell_type": "code",
   "execution_count": 2,
   "metadata": {
    "tags": []
   },
   "outputs": [],
   "source": [
    "data = pd.read_csv('data/coupons.csv')"
   ]
  },
  {
   "cell_type": "code",
   "execution_count": 60,
   "metadata": {
    "tags": []
   },
   "outputs": [
    {
     "name": "stdout",
     "output_type": "stream",
     "text": [
      "<class 'pandas.core.frame.DataFrame'>\n",
      "RangeIndex: 12684 entries, 0 to 12683\n",
      "Data columns (total 27 columns):\n",
      " #   Column                Non-Null Count  Dtype  \n",
      "---  ------                --------------  -----  \n",
      " 0   destination           12684 non-null  object \n",
      " 1   passanger             12684 non-null  object \n",
      " 2   weather               12684 non-null  object \n",
      " 3   temperature           12684 non-null  int64  \n",
      " 4   time                  12684 non-null  object \n",
      " 5   coupon                12684 non-null  object \n",
      " 6   expiration            12684 non-null  object \n",
      " 7   gender                12684 non-null  object \n",
      " 8   age                   12684 non-null  object \n",
      " 9   maritalStatus         12684 non-null  object \n",
      " 10  has_children          12684 non-null  int64  \n",
      " 11  education             12684 non-null  object \n",
      " 12  occupation            12684 non-null  object \n",
      " 13  income                12684 non-null  object \n",
      " 14  car                   12684 non-null  object \n",
      " 15  Bar                   12684 non-null  object \n",
      " 16  CoffeeHouse           12684 non-null  object \n",
      " 17  CarryAway             12684 non-null  object \n",
      " 18  RestaurantLessThan20  12684 non-null  object \n",
      " 19  Restaurant20To50      12684 non-null  object \n",
      " 20  toCoupon_GEQ5min      12684 non-null  int64  \n",
      " 21  toCoupon_GEQ15min     12684 non-null  int64  \n",
      " 22  toCoupon_GEQ25min     12684 non-null  int64  \n",
      " 23  direction_same        12684 non-null  int64  \n",
      " 24  direction_opp         12684 non-null  int64  \n",
      " 25  Y                     12684 non-null  int64  \n",
      " 26  age_numeric           10349 non-null  float64\n",
      "dtypes: float64(1), int64(8), object(18)\n",
      "memory usage: 2.6+ MB\n"
     ]
    }
   ],
   "source": [
    "data.info()"
   ]
  },
  {
   "cell_type": "markdown",
   "metadata": {},
   "source": [
    "2. Investigate the dataset for missing or problematic data."
   ]
  },
  {
   "cell_type": "code",
   "execution_count": 6,
   "metadata": {
    "tags": []
   },
   "outputs": [
    {
     "name": "stdout",
     "output_type": "stream",
     "text": [
      "destination                 0\n",
      "passanger                   0\n",
      "weather                     0\n",
      "temperature                 0\n",
      "time                        0\n",
      "coupon                      0\n",
      "expiration                  0\n",
      "gender                      0\n",
      "age                         0\n",
      "maritalStatus               0\n",
      "has_children                0\n",
      "education                   0\n",
      "occupation                  0\n",
      "income                      0\n",
      "car                     12576\n",
      "Bar                       107\n",
      "CoffeeHouse               217\n",
      "CarryAway                 151\n",
      "RestaurantLessThan20      130\n",
      "Restaurant20To50          189\n",
      "toCoupon_GEQ5min            0\n",
      "toCoupon_GEQ15min           0\n",
      "toCoupon_GEQ25min           0\n",
      "direction_same              0\n",
      "direction_opp               0\n",
      "Y                           0\n",
      "dtype: int64\n"
     ]
    }
   ],
   "source": [
    "missing_values = data.isnull().sum()\n",
    "print(missing_values)"
   ]
  },
  {
   "cell_type": "code",
   "execution_count": 8,
   "metadata": {
    "tags": []
   },
   "outputs": [
    {
     "name": "stdout",
     "output_type": "stream",
     "text": [
      "destination              0.000000\n",
      "passanger                0.000000\n",
      "weather                  0.000000\n",
      "temperature              0.000000\n",
      "time                     0.000000\n",
      "coupon                   0.000000\n",
      "expiration               0.000000\n",
      "gender                   0.000000\n",
      "age                      0.000000\n",
      "maritalStatus            0.000000\n",
      "has_children             0.000000\n",
      "education                0.000000\n",
      "occupation               0.000000\n",
      "income                   0.000000\n",
      "car                     99.148534\n",
      "Bar                      0.843582\n",
      "CoffeeHouse              1.710817\n",
      "CarryAway                1.190476\n",
      "RestaurantLessThan20     1.024913\n",
      "Restaurant20To50         1.490066\n",
      "toCoupon_GEQ5min         0.000000\n",
      "toCoupon_GEQ15min        0.000000\n",
      "toCoupon_GEQ25min        0.000000\n",
      "direction_same           0.000000\n",
      "direction_opp            0.000000\n",
      "Y                        0.000000\n",
      "dtype: float64\n"
     ]
    }
   ],
   "source": [
    "missing_percentage = (data.isnull().sum() / len(data)) * 100\n",
    "print(missing_percentage)"
   ]
  },
  {
   "cell_type": "code",
   "execution_count": 9,
   "metadata": {
    "tags": []
   },
   "outputs": [
    {
     "name": "stdout",
     "output_type": "stream",
     "text": [
      "           destination  passanger weather  temperature  time  \\\n",
      "0      No Urgent Place      Alone   Sunny           55   2PM   \n",
      "1      No Urgent Place  Friend(s)   Sunny           80  10AM   \n",
      "2      No Urgent Place  Friend(s)   Sunny           80  10AM   \n",
      "3      No Urgent Place  Friend(s)   Sunny           80   2PM   \n",
      "4      No Urgent Place  Friend(s)   Sunny           80   2PM   \n",
      "...                ...        ...     ...          ...   ...   \n",
      "12679             Home    Partner   Rainy           55   6PM   \n",
      "12680             Work      Alone   Rainy           55   7AM   \n",
      "12681             Work      Alone   Snowy           30   7AM   \n",
      "12682             Work      Alone   Snowy           30   7AM   \n",
      "12683             Work      Alone   Sunny           80   7AM   \n",
      "\n",
      "                      coupon expiration  gender age      maritalStatus  ...  \\\n",
      "0            Restaurant(<20)         1d  Female  21  Unmarried partner  ...   \n",
      "1               Coffee House         2h  Female  21  Unmarried partner  ...   \n",
      "2      Carry out & Take away         2h  Female  21  Unmarried partner  ...   \n",
      "3               Coffee House         2h  Female  21  Unmarried partner  ...   \n",
      "4               Coffee House         1d  Female  21  Unmarried partner  ...   \n",
      "...                      ...        ...     ...  ..                ...  ...   \n",
      "12679  Carry out & Take away         1d    Male  26             Single  ...   \n",
      "12680  Carry out & Take away         1d    Male  26             Single  ...   \n",
      "12681           Coffee House         1d    Male  26             Single  ...   \n",
      "12682                    Bar         1d    Male  26             Single  ...   \n",
      "12683      Restaurant(20-50)         2h    Male  26             Single  ...   \n",
      "\n",
      "       CoffeeHouse CarryAway RestaurantLessThan20 Restaurant20To50  \\\n",
      "0            never       NaN                  4~8              1~3   \n",
      "1            never       NaN                  4~8              1~3   \n",
      "2            never       NaN                  4~8              1~3   \n",
      "3            never       NaN                  4~8              1~3   \n",
      "4            never       NaN                  4~8              1~3   \n",
      "...            ...       ...                  ...              ...   \n",
      "12679        never       1~3                  4~8              1~3   \n",
      "12680        never       1~3                  4~8              1~3   \n",
      "12681        never       1~3                  4~8              1~3   \n",
      "12682        never       1~3                  4~8              1~3   \n",
      "12683        never       1~3                  4~8              1~3   \n",
      "\n",
      "      toCoupon_GEQ5min toCoupon_GEQ15min toCoupon_GEQ25min direction_same  \\\n",
      "0                    1                 0                 0              0   \n",
      "1                    1                 0                 0              0   \n",
      "2                    1                 1                 0              0   \n",
      "3                    1                 1                 0              0   \n",
      "4                    1                 1                 0              0   \n",
      "...                ...               ...               ...            ...   \n",
      "12679                1                 0                 0              1   \n",
      "12680                1                 0                 0              0   \n",
      "12681                1                 0                 0              1   \n",
      "12682                1                 1                 1              0   \n",
      "12683                1                 0                 0              1   \n",
      "\n",
      "      direction_opp  Y  \n",
      "0                 1  1  \n",
      "1                 1  0  \n",
      "2                 1  1  \n",
      "3                 1  0  \n",
      "4                 1  0  \n",
      "...             ... ..  \n",
      "12679             0  1  \n",
      "12680             1  1  \n",
      "12681             0  0  \n",
      "12682             1  0  \n",
      "12683             0  0  \n",
      "\n",
      "[12576 rows x 26 columns]\n"
     ]
    }
   ],
   "source": [
    "# Display rows with missing values in the 'car' column\n",
    "print(data[data['car'].isnull()])"
   ]
  },
  {
   "cell_type": "code",
   "execution_count": 10,
   "metadata": {
    "tags": []
   },
   "outputs": [],
   "source": [
    "# lots of missing car data\n",
    "data['car'] = data['car'].fillna('Unknown')"
   ]
  },
  {
   "cell_type": "code",
   "execution_count": 11,
   "metadata": {
    "tags": []
   },
   "outputs": [
    {
     "name": "stdout",
     "output_type": "stream",
     "text": [
      "destination               0\n",
      "passanger                 0\n",
      "weather                   0\n",
      "temperature               0\n",
      "time                      0\n",
      "coupon                    0\n",
      "expiration                0\n",
      "gender                    0\n",
      "age                       0\n",
      "maritalStatus             0\n",
      "has_children              0\n",
      "education                 0\n",
      "occupation                0\n",
      "income                    0\n",
      "car                       0\n",
      "Bar                     107\n",
      "CoffeeHouse             217\n",
      "CarryAway               151\n",
      "RestaurantLessThan20    130\n",
      "Restaurant20To50        189\n",
      "toCoupon_GEQ5min          0\n",
      "toCoupon_GEQ15min         0\n",
      "toCoupon_GEQ25min         0\n",
      "direction_same            0\n",
      "direction_opp             0\n",
      "Y                         0\n",
      "dtype: int64\n"
     ]
    }
   ],
   "source": [
    "#look again\n",
    "missing_values = data.isnull().sum()\n",
    "print(missing_values)"
   ]
  },
  {
   "cell_type": "code",
   "execution_count": 14,
   "metadata": {
    "tags": []
   },
   "outputs": [],
   "source": [
    "#placeholders for all missing data\n",
    "data['Bar'] = data['Bar'].fillna('UnkBar')\n",
    "data['CoffeeHouse'] = data['CoffeeHouse'].fillna('UnkCoffeeHouse')\n",
    "data['CarryAway'] = data['CarryAway'].fillna('UnkCarryAway')\n",
    "data['RestaurantLessThan20'] = data['RestaurantLessThan20'].fillna('UnkRestLessThan20')\n",
    "data['Restaurant20To50'] = data['Restaurant20To50'].fillna('UnkRest20To50')\n"
   ]
  },
  {
   "cell_type": "code",
   "execution_count": 43,
   "metadata": {
    "tags": []
   },
   "outputs": [
    {
     "name": "stdout",
     "output_type": "stream",
     "text": [
      "destination                0\n",
      "passanger                  0\n",
      "weather                    0\n",
      "temperature                0\n",
      "time                       0\n",
      "coupon                     0\n",
      "expiration                 0\n",
      "gender                     0\n",
      "age                        0\n",
      "maritalStatus              0\n",
      "has_children               0\n",
      "education                  0\n",
      "occupation                 0\n",
      "income                     0\n",
      "car                        0\n",
      "Bar                        0\n",
      "CoffeeHouse                0\n",
      "CarryAway                  0\n",
      "RestaurantLessThan20       0\n",
      "Restaurant20To50           0\n",
      "toCoupon_GEQ5min           0\n",
      "toCoupon_GEQ15min          0\n",
      "toCoupon_GEQ25min          0\n",
      "direction_same             0\n",
      "direction_opp              0\n",
      "Y                          0\n",
      "age_numeric             2335\n",
      "dtype: int64\n"
     ]
    }
   ],
   "source": [
    "#look yet again\n",
    "missing_values = data.isnull().sum()\n",
    "print(missing_values)\n",
    "cleanDataForLater = data"
   ]
  },
  {
   "cell_type": "markdown",
   "metadata": {},
   "source": [
    "3. Decide what to do about your missing data -- drop, replace, other..."
   ]
  },
  {
   "cell_type": "code",
   "execution_count": null,
   "metadata": {},
   "outputs": [],
   "source": [
    "# put in place holders for all, might go back and drop, but too early"
   ]
  },
  {
   "cell_type": "markdown",
   "metadata": {},
   "source": [
    "4. What proportion of the total observations chose to accept the coupon? \n",
    "\n"
   ]
  },
  {
   "cell_type": "code",
   "execution_count": 16,
   "metadata": {
    "tags": []
   },
   "outputs": [
    {
     "name": "stdout",
     "output_type": "stream",
     "text": [
      "Proportion of coupons accepted: 0.5684326710816777\n"
     ]
    }
   ],
   "source": [
    "# Calculate the proportion of coupon acceptance\n",
    "proportion_accepted = data['Y'].mean()\n",
    "print(\"Proportion of coupons accepted:\", proportion_accepted)"
   ]
  },
  {
   "cell_type": "markdown",
   "metadata": {},
   "source": [
    "5. Use a bar plot to visualize the `coupon` column."
   ]
  },
  {
   "cell_type": "code",
   "execution_count": 32,
   "metadata": {
    "tags": []
   },
   "outputs": [
    {
     "data": {
      "text/plain": [
       "<Axes: xlabel='coupon', ylabel='count'>"
      ]
     },
     "execution_count": 32,
     "metadata": {},
     "output_type": "execute_result"
    },
    {
     "data": {
      "image/png": "[encoded data removed]",
      "text/plain": [
       "<Figure size 1000x600 with 1 Axes>"
      ]
     },
     "metadata": {},
     "output_type": "display_data"
    }
   ],
   "source": [
    "import pandas as pd\n",
    "import matplotlib.pyplot as plt\n",
    "import seaborn as sns\n",
    "\n",
    "# Create a bar plot\n",
    "plt.figure(figsize=(10, 6)) # Adjust the size as needed\n",
    "sns.countplot(x='coupon', data=data, palette='viridis')"
   ]
  },
  {
   "cell_type": "markdown",
   "metadata": {},
   "source": [
    "6. Use a histogram to visualize the temperature column."
   ]
  },
  {
   "cell_type": "code",
   "execution_count": 61,
   "metadata": {
    "tags": []
   },
   "outputs": [
    {
     "data": {
      "image/png": "[encoded data removed]",
      "text/plain": [
       "<Figure size 500x500 with 1 Axes>"
      ]
     },
     "metadata": {},
     "output_type": "display_data"
    }
   ],
   "source": [
    "# Create a histogram \n",
    "plt.figure(figsize=(5,5)) \n",
    "plt.hist(data['temperature'], bins=20, color='skyblue')\n",
    "\n",
    "plt.title('Distribution of Temperature')\n",
    "plt.xlabel('Temperature')\n",
    "plt.ylabel('Frequency')\n",
    "\n",
    "# Show the plot\n",
    "plt.show()"
   ]
  },
  {
   "cell_type": "markdown",
   "metadata": {},
   "source": [
    "**Investigating the Bar Coupons**\n",
    "\n",
    "Now, we will lead you through an exploration of just the bar related coupons.  \n",
    "\n",
    "1. Create a new `DataFrame` that contains just the bar coupons.\n"
   ]
  },
  {
   "cell_type": "code",
   "execution_count": 34,
   "metadata": {
    "tags": []
   },
   "outputs": [
    {
     "name": "stdout",
     "output_type": "stream",
     "text": [
      "        destination  passanger weather  temperature  time coupon expiration  \\\n",
      "9   No Urgent Place     Kid(s)   Sunny           80  10AM    Bar         1d   \n",
      "13             Home      Alone   Sunny           55   6PM    Bar         1d   \n",
      "17             Work      Alone   Sunny           55   7AM    Bar         1d   \n",
      "24  No Urgent Place  Friend(s)   Sunny           80  10AM    Bar         1d   \n",
      "35             Home      Alone   Sunny           55   6PM    Bar         1d   \n",
      "\n",
      "    gender age      maritalStatus  ...  CoffeeHouse     CarryAway  \\\n",
      "9   Female  21  Unmarried partner  ...        never  UnkCarryAway   \n",
      "13  Female  21  Unmarried partner  ...        never  UnkCarryAway   \n",
      "17  Female  21  Unmarried partner  ...        never  UnkCarryAway   \n",
      "24    Male  21             Single  ...        less1           4~8   \n",
      "35    Male  21             Single  ...        less1           4~8   \n",
      "\n",
      "   RestaurantLessThan20 Restaurant20To50 toCoupon_GEQ5min toCoupon_GEQ15min  \\\n",
      "9                   4~8              1~3                1                 1   \n",
      "13                  4~8              1~3                1                 0   \n",
      "17                  4~8              1~3                1                 1   \n",
      "24                  4~8            less1                1                 0   \n",
      "35                  4~8            less1                1                 0   \n",
      "\n",
      "   toCoupon_GEQ25min direction_same direction_opp  Y  \n",
      "9                  0              0             1  0  \n",
      "13                 0              1             0  1  \n",
      "17                 1              0             1  0  \n",
      "24                 0              0             1  1  \n",
      "35                 0              1             0  1  \n",
      "\n",
      "[5 rows x 26 columns]\n"
     ]
    }
   ],
   "source": [
    "# Filter the DataFrame to include only rows where the coupon column is 'Bar'\n",
    "bar_coupons_data = data[data['coupon'] == 'Bar']\n",
    "\n",
    "# Display the first few rows of the new DataFrame to verify\n",
    "print(bar_coupons_data.head())"
   ]
  },
  {
   "cell_type": "markdown",
   "metadata": {},
   "source": [
    "2. What proportion of bar coupons were accepted?\n"
   ]
  },
  {
   "cell_type": "code",
   "execution_count": 35,
   "metadata": {
    "tags": []
   },
   "outputs": [
    {
     "name": "stdout",
     "output_type": "stream",
     "text": [
      "Proportion of bar coupons accepted: 0.41001487357461575\n"
     ]
    }
   ],
   "source": [
    "proportion_accepted = bar_coupons_data['Y'].mean()\n",
    "\n",
    "print(\"Proportion of bar coupons accepted:\", proportion_accepted)"
   ]
  },
  {
   "cell_type": "markdown",
   "metadata": {},
   "source": [
    "3. Compare the acceptance rate between those who went to a bar 3 or fewer times a month to those who went more.\n"
   ]
  },
  {
   "cell_type": "code",
   "execution_count": 36,
   "metadata": {
    "tags": []
   },
   "outputs": [
    {
     "name": "stdout",
     "output_type": "stream",
     "text": [
      "Acceptance rate for those who visit a bar 3 or fewer times a month: 0.18795180722891566\n",
      "Acceptance rate for those who visit a bar more than 3 times a month: 0.565290648694187\n"
     ]
    }
   ],
   "source": [
    "# Categorize based on the 'Bar' frequency\n",
    "# Assuming the 'Bar' column exists and categorizes frequency of visits\n",
    "three_or_less = bar_coupons_data[bar_coupons_data['Bar'].isin(['never', 'less than once a month', '1–3 times a month'])]\n",
    "more_than_three = bar_coupons_data[~bar_coupons_data['Bar'].isin(['never', 'less than once a month', '1–3 times a month'])]\n",
    "\n",
    "# Calculate acceptance rates\n",
    "acceptance_rate_three_or_less = three_or_less['Y'].mean()\n",
    "acceptance_rate_more_than_three = more_than_three['Y'].mean()\n",
    "\n",
    "print(\"Acceptance rate for those who visit a bar 3 or fewer times a month:\", acceptance_rate_three_or_less)\n",
    "print(\"Acceptance rate for those who visit a bar more than 3 times a month:\", acceptance_rate_more_than_three)"
   ]
  },
  {
   "cell_type": "markdown",
   "metadata": {},
   "source": [
    "4. Compare the acceptance rate between drivers who go to a bar more than once a month and are over the age of 25 to the all others.  Is there a difference?\n"
   ]
  },
  {
   "cell_type": "code",
   "execution_count": 37,
   "metadata": {
    "tags": []
   },
   "outputs": [
    {
     "name": "stdout",
     "output_type": "stream",
     "text": [
      "Acceptance rate for drivers who go to a bar more than once a month and are over 25: 0.6261160714285714\n",
      "Acceptance rate for all other drivers: 0.5640481845945029\n"
     ]
    }
   ],
   "source": [
    "data['age_numeric'] = pd.to_numeric(data['age'], errors='coerce')\n",
    "\n",
    "# Define Group 1: Drivers who go to a bar more than once a month and are over the age of 25\n",
    "group_1 = data[(data['Bar'].isin(['2~3', '4~8', 'gt8'])) & (data['age_numeric'] > 25)]\n",
    "\n",
    "# Define Group 2: All other drivers\n",
    "group_2 = data[~((data['Bar'].isin(['2~3', '4~8', 'gt8'])) & (data['age_numeric'] > 25))]\n",
    "\n",
    "# Calculate the acceptance rate for each group\n",
    "acceptance_rate_group_1 = group_1['Y'].mean()\n",
    "acceptance_rate_group_2 = group_2['Y'].mean()\n",
    "\n",
    "print(f\"Acceptance rate for drivers who go to a bar more than once a month and are over 25: {acceptance_rate_group_1}\")\n",
    "print(f\"Acceptance rate for all other drivers: {acceptance_rate_group_2}\")"
   ]
  },
  {
   "cell_type": "markdown",
   "metadata": {},
   "source": [
    "5. Use the same process to compare the acceptance rate between drivers who go to bars more than once a month and had passengers that were not a kid and had occupations other than farming, fishing, or forestry. \n"
   ]
  },
  {
   "cell_type": "code",
   "execution_count": 38,
   "metadata": {
    "tags": []
   },
   "outputs": [
    {
     "name": "stdout",
     "output_type": "stream",
     "text": [
      "Specific group acceptance rate: 0.5714285714285714\n",
      "Overall acceptance rate: 0.5684326710816777\n",
      "Complementary group acceptance rate: 0.5683494044242768\n"
     ]
    }
   ],
   "source": [
    "# Step 1: Filter drivers who go to bars more than once a month\n",
    "# This step depends on the specific values in your 'Bar' column. Adjust the condition accordingly.\n",
    "more_than_once = data['Bar'].isin(['1–3 times a month', '4–8 times a month', 'gt8'])\n",
    "\n",
    "# Step 2 & 3: Filter based on passengers not being kids and occupation not being farming, fishing, or forestry\n",
    "not_kid_passenger = data['passanger'] != 'Kid(s)' # Assuming 'Kid(s)' is the value indicating kids as passengers\n",
    "not_ffo_occupation = ~data['occupation'].isin(['Farming Fishing & Forestry'])\n",
    "\n",
    "# Combined filter for the specific group\n",
    "specific_group_filter = more_than_once & not_kid_passenger & not_ffo_occupation\n",
    "\n",
    "# Calculate acceptance rate for the specific group\n",
    "specific_group_acceptance_rate = data[specific_group_filter]['Y'].mean()\n",
    "\n",
    "# Calculate overall acceptance rate for comparison\n",
    "overall_acceptance_rate = data['Y'].mean()\n",
    "\n",
    "print(\"Specific group acceptance rate:\", specific_group_acceptance_rate)\n",
    "print(\"Overall acceptance rate:\", overall_acceptance_rate)\n",
    "\n",
    "# For comparison, you might also calculate the acceptance rate for all other drivers as a complementary group\n",
    "complementary_group_acceptance_rate = data[~specific_group_filter]['Y'].mean()\n",
    "print(\"Complementary group acceptance rate:\", complementary_group_acceptance_rate)"
   ]
  },
  {
   "cell_type": "markdown",
   "metadata": {},
   "source": [
    "6. Compare the acceptance rates between those drivers who:\n",
    "\n",
    "- go to bars more than once a month, had passengers that were not a kid, and were not widowed *OR*\n",
    "- go to bars more than once a month and are under the age of 30 *OR*\n",
    "- go to cheap restaurants more than 4 times a month and income is less than 50K. \n",
    "\n"
   ]
  },
  {
   "cell_type": "code",
   "execution_count": 39,
   "metadata": {
    "tags": []
   },
   "outputs": [
    {
     "name": "stdout",
     "output_type": "stream",
     "text": [
      "Acceptance rate for Group 1 (Bars >1/month, Not Kid, Not Widowed): 0.5714285714285714\n",
      "Acceptance rate for Group 2 (Bars >1/month, <30 years old): 0.583969465648855\n",
      "Acceptance rate for Group 3 (Cheap Restaurants >4/month, <50K income): 0.6631892697466468\n"
     ]
    }
   ],
   "source": [
    "# Define the conditions for each group\n",
    "# Adjust conditions based on actual column values and names in your dataset\n",
    "\n",
    "# Group 1 Conditions\n",
    "condition_group1 = (data['Bar'].isin(['1–3 times a month', '4–8 times a month', 'gt8'])) & \\\n",
    "                    (data['passanger'] != 'Kid(s)') & \\\n",
    "                    (data['maritalStatus'] != 'Widowed')\n",
    "\n",
    "# Group 2 Conditions\n",
    "condition_group2 = (data['Bar'].isin(['1–3 times a month', '4–8 times a month', 'gt8'])) & \\\n",
    "                    (data['age'].isin(['26', 'below21', '21', '22', '23', '24', '25', '26', '27', '28', '29']))  # Assuming age is categorical\n",
    "\n",
    "# Group 3 Conditions\n",
    "# Assuming 'RestaurantLessThan20' indicates frequency of going to cheap restaurants and 'income' is categorical\n",
    "condition_group3 = (data['RestaurantLessThan20'].isin(['4–8 times a month', 'gt8'])) & \\\n",
    "                    (data['income'].isin(['Less than $12500', '$12500 - $24999', '$25000 - $37499', '$37500 - $49999'])) \n",
    "\n",
    "# Filter the DataFrame for each group and calculate acceptance rates\n",
    "acceptance_rate_group1 = data[condition_group1]['Y'].mean()\n",
    "acceptance_rate_group2 = data[condition_group2]['Y'].mean()\n",
    "acceptance_rate_group3 = data[condition_group3]['Y'].mean()\n",
    "\n",
    "print(\"Acceptance rate for Group 1 (Bars >1/month, Not Kid, Not Widowed):\", acceptance_rate_group1)\n",
    "print(\"Acceptance rate for Group 2 (Bars >1/month, <30 years old):\", acceptance_rate_group2)\n",
    "print(\"Acceptance rate for Group 3 (Cheap Restaurants >4/month, <50K income):\", acceptance_rate_group3)"
   ]
  },
  {
   "cell_type": "markdown",
   "metadata": {},
   "source": [
    "7.  Based on these observations, what do you hypothesize about drivers who accepted the bar coupons?"
   ]
  },
  {
   "cell_type": "code",
   "execution_count": null,
   "metadata": {},
   "outputs": [],
   "source": [
    "Based on the observations and the scenarios outlined for analyzing the acceptance rates of bar coupons among different groups of drivers, several hypotheses can be formulated about the characteristics of drivers who are more likely to accept bar coupons. While the actual analysis would depend on the computed acceptance rates (which have not been provided here), we can still speculate based on common patterns seen in consumer behavior and the conditions provided:\n",
    "\n",
    "Social Habits and Lifestyle: Drivers who frequently go to bars (more than once a month) may have a more active social life or prefer social settings, making them more inclined to accept bar coupons. This indicates that bar coupons are more appealing to individuals who already have an interest in social drinking or dining out.\n",
    "Age Factor: The hypothesis around age suggests that younger drivers (under 30), who may also frequently visit bars, could be more likely to accept bar coupons. Younger individuals might be more attracted to social outings or deals that allow them to save money while enjoying their time with friends.\n",
    "Marital Status and Passenger Type: The condition excluding widowed drivers or those with kids as passengers might indicate that individuals who are possibly single or without child-care responsibilities at the moment of decision are more receptive to bar coupons. This could be because such drivers have fewer restrictions on their leisure time and might be more interested in activities like visiting a bar.\n",
    "Income Level and Dining Habits: The hypothesis involving drivers who frequent cheap restaurants and have an income less than $50K suggests that cost-saving opportunities are particularly appealing to individuals with lower disposable incomes. This group's tendency to accept coupons might be driven by the desire to maximize value on dining and social experiences within their budget constraints.\n",
    "In summary, the hypotheses about drivers who accepted the bar coupons could revolve around the drivers' social habits, age, marital status, accompanying passengers, and income level. Drivers who are younger, have a more active social life, are not widowed, do not have kids as passengers, and/or have lower incomes might be more predisposed to accepting bar coupons due to the combination of lifestyle preferences and financial incentives."
   ]
  },
  {
   "cell_type": "markdown",
   "metadata": {},
   "source": [
    "### Independent Investigation\n",
    "\n",
    "Using the bar coupon example as motivation, you are to explore one of the other coupon groups and try to determine the characteristics of passengers who accept the coupons.  "
   ]
  },
  {
   "cell_type": "code",
   "execution_count": 55,
   "metadata": {
    "tags": []
   },
   "outputs": [
    {
     "name": "stdout",
     "output_type": "stream",
     "text": [
      "<class 'pandas.core.frame.DataFrame'>\n",
      "RangeIndex: 12684 entries, 0 to 12683\n",
      "Data columns (total 26 columns):\n",
      " #   Column                Non-Null Count  Dtype \n",
      "---  ------                --------------  ----- \n",
      " 0   destination           12684 non-null  object\n",
      " 1   passanger             12684 non-null  object\n",
      " 2   weather               12684 non-null  object\n",
      " 3   temperature           12684 non-null  int64 \n",
      " 4   time                  12684 non-null  object\n",
      " 5   coupon                12684 non-null  object\n",
      " 6   expiration            12684 non-null  object\n",
      " 7   gender                12684 non-null  object\n",
      " 8   age                   12684 non-null  object\n",
      " 9   maritalStatus         12684 non-null  object\n",
      " 10  has_children          12684 non-null  int64 \n",
      " 11  education             12684 non-null  object\n",
      " 12  occupation            12684 non-null  object\n",
      " 13  income                12684 non-null  object\n",
      " 14  car                   108 non-null    object\n",
      " 15  Bar                   12577 non-null  object\n",
      " 16  CoffeeHouse           12467 non-null  object\n",
      " 17  CarryAway             12533 non-null  object\n",
      " 18  RestaurantLessThan20  12554 non-null  object\n",
      " 19  Restaurant20To50      12495 non-null  object\n",
      " 20  toCoupon_GEQ5min      12684 non-null  int64 \n",
      " 21  toCoupon_GEQ15min     12684 non-null  int64 \n",
      " 22  toCoupon_GEQ25min     12684 non-null  int64 \n",
      " 23  direction_same        12684 non-null  int64 \n",
      " 24  direction_opp         12684 non-null  int64 \n",
      " 25  Y                     12684 non-null  int64 \n",
      "dtypes: int64(8), object(18)\n",
      "memory usage: 2.5+ MB\n"
     ]
    }
   ],
   "source": [
    "# Load data\n",
    "data2 = pd.read_csv('data/coupons.csv')\n",
    "\n",
    "data2.info()"
   ]
  },
  {
   "cell_type": "code",
   "execution_count": 58,
   "metadata": {
    "tags": []
   },
   "outputs": [
    {
     "data": {
      "image/png": "[encoded data removed]",
      "text/plain": [
       "<Figure size 640x480 with 1 Axes>"
      ]
     },
     "metadata": {},
     "output_type": "display_data"
    }
   ],
   "source": [
    "\n",
    "\n",
    "#Looking at the relationship of coffee coupon usage to temperature\n",
    "data2_coffee = data2[data2['coupon'] == 'Coffee House']\n",
    "\n",
    "# Group by temperature to find mean coupon usage\n",
    "temp_coupon_usage = data2_coffee.groupby('temperature')['Y'].mean()\n",
    "\n",
    "# Plot\n",
    "temp_coupon_usage.plot(kind='bar')\n",
    "plt.xlabel('Temperature (F)')\n",
    "plt.ylabel('Mean Coffee Coupon Usage Rate')\n",
    "plt.title('Coffee Coupon Usage Rate by Temperature')\n",
    "plt.xticks(rotation=0)\n",
    "plt.show()\n"
   ]
  },
  {
   "cell_type": "code",
   "execution_count": 59,
   "metadata": {
    "tags": []
   },
   "outputs": [
    {
     "data": {
      "image/png": "[encoded data removed]",
      "text/plain": [
       "<Figure size 640x480 with 1 Axes>"
      ]
     },
     "metadata": {},
     "output_type": "display_data"
    }
   ],
   "source": [
    "#Looking at the relationship of coffee coupon usage to weather\n",
    "weather_coupon_usage_all = data2.groupby('weather')['Y'].mean()\n",
    "\n",
    "# Plot\n",
    "weather_coupon_usage_all.plot(kind='bar')\n",
    "plt.xlabel('Weather')\n",
    "plt.ylabel('Mean Coupon Usage Rate')\n",
    "plt.title('Overall Coupon Usage Rate by Weather')\n",
    "plt.xticks(rotation=0)\n",
    "plt.show()\n",
    "\n"
   ]
  },
  {
   "cell_type": "code",
   "execution_count": null,
   "metadata": {},
   "outputs": [],
   "source": []
  },
  {
   "cell_type": "code",
   "execution_count": null,
   "metadata": {},
   "outputs": [],
   "source": []
  }
 ],
 "metadata": {
  "kernelspec": {
   "display_name": "Python 3 (ipykernel)",
   "language": "python",
   "name": "python3"
  },
  "language_info": {
   "codemirror_mode": {
    "name": "ipython",
    "version": 3
   },
   "file_extension": ".py",
   "mimetype": "text/x-python",
   "name": "python",
   "nbconvert_exporter": "python",
   "pygments_lexer": "ipython3",
   "version": "3.11.5"
  },
  "widgets": {
   "application/vnd.jupyter.widget-state+json": {
    "state": {},
    "version_major": 2,
    "version_minor": 0
   }
  }
 },
 "nbformat": 4,
 "nbformat_minor": 4
}
